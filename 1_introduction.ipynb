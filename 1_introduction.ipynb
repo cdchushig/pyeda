{
 "cells": [
  {
   "cell_type": "markdown",
   "metadata": {},
   "source": [
    "# Basic Jupyter"
   ]
  },
  {
   "cell_type": "markdown",
   "metadata": {},
   "source": [
    "## Importando librerías\n",
    "\n",
    "Podemos importar librerías para tratatamiento de datos."
   ]
  },
  {
   "cell_type": "code",
   "execution_count": 1,
   "metadata": {},
   "outputs": [],
   "source": [
    "import numpy as np\n",
    "import pandas as pd\n",
    "import sklearn as sk"
   ]
  },
  {
   "cell_type": "markdown",
   "metadata": {},
   "source": [
    "## Markdown Básico"
   ]
  },
  {
   "cell_type": "markdown",
   "metadata": {},
   "source": [
    "`# Cabecera Nivel 1`\n",
    "# Cabecera Nivel 1\n",
    "\n",
    "`## Cabecera Nivel 2`\n",
    "## Cabecera Nivel 2\n",
    "\n",
    "`### Cabecera Nivel 3`\n",
    "### Cabecera Nivel 3\n",
    "   "
   ]
  },
  {
   "cell_type": "markdown",
   "metadata": {},
   "source": [
    "Texto en bold: **Esto es negrita**\n",
    "\n",
    "Texto en italics: _Esto es cursiva_\n",
    "\n",
    "**Escapando markdown**\n",
    "\n",
    "`**Esto es negrita**`\n",
    "\n",
    "`_Esto es cursiva_`\n",
    "\n",
    "**Listas sin párrafos**\n",
    "1. Primer ítem\n",
    "2. Segundo ítem\n",
    "3. Tercer ítem\n",
    "\n",
    "**Listas con párrafos**\n",
    "1. Primer ítem\n",
    "    \n",
    "    Primer párrafo alineado a ítem\n",
    "    \n",
    "\n",
    "2. Segundo ítem\n",
    "    \n",
    "    Segundo párrago alineado a ítem"
   ]
  },
  {
   "cell_type": "markdown",
   "metadata": {},
   "source": [
    "## Insertando Hiperenlaces\n",
    "\n",
    "https://www.urjc.es  (enlace simple).\n",
    "\n",
    "[Universidad Rey Juan Carlos](https://www.urjc.es)  (texto enlazado)."
   ]
  },
  {
   "cell_type": "markdown",
   "metadata": {},
   "source": [
    "## Insertando código\n",
    "_Podemos insertar código de varios lenguajes de programación_\n",
    "\n",
    "**Python**\n",
    "\n",
    "\n",
    "```python\n",
    "print('hello from Jupyter!')\n",
    "tuple_name = ('Jon', 'Snow')\n",
    "list_characters_got = []\n",
    "list_characters_got.append('Daenerys')\n",
    "list_characters_got.append('Tyrion')\n",
    "list_characters_got.append('Jaime')\n",
    "for character_got in list_characters_got:\n",
    "    print(character_got)\n",
    "```\n",
    "\n",
    "**Bash**\n",
    "\n",
    "```bash\n",
    "cd /home/cdchushig\n",
    "ls \n",
    "mkdir\n",
    "```"
   ]
  },
  {
   "cell_type": "markdown",
   "metadata": {},
   "source": [
    "## Insertando custom box\n",
    "\n",
    "<div class=\"alert alert-block alert-info\">Consejo: Usa las cajas azules para consejos y notas. Si es una nota, no necesitas incluir al principio \"Nota\".</div>\n",
    "\n",
    "<div class=\"alert alert-block alert-warning\">Ejemplos o advertencias: Usa las cajas amarillas para ejemplos que no vayan dentro de celdas de código, para fórmulas matemáticas importantes o bien para advertencias. En este último caso, empieza el contenido con \"**Advertencia**:\".</div>\n",
    "\n",
    "<div class=\"alert alert-block alert-success\">Usa las cajas verdes para otros propósitos generales, diferentes de los anteriores: contenido relacionado que quieres enlazar, o enlaces relacionados en cada sección del notebook.</div>\n",
    "\n",
    "<div class=\"alert alert-block alert-danger\">Solo usamos cajas rojas para errores o advertencias muy peligrosas.</div>"
   ]
  },
  {
   "cell_type": "markdown",
   "metadata": {},
   "source": [
    "## Insertando instrucciones bash"
   ]
  },
  {
   "cell_type": "code",
   "execution_count": 22,
   "metadata": {},
   "outputs": [
    {
     "name": "stdout",
     "output_type": "stream",
     "text": [
      "/home/jovyan/sharedfolder\r\n"
     ]
    }
   ],
   "source": [
    "!pwd"
   ]
  },
  {
   "cell_type": "code",
   "execution_count": 23,
   "metadata": {},
   "outputs": [
    {
     "name": "stdout",
     "output_type": "stream",
     "text": [
      "total 28\r\n",
      "drwxr-xr-x 6 jovyan users   204 Feb 13 11:18 .\r\n",
      "drwsrwsr-x 1 jovyan users  4096 Feb 12 13:45 ..\r\n",
      "-rw-r--r-- 1 jovyan users  6129 Feb 13 11:18 basic_jupyter.ipynb\r\n",
      "drwxr-xr-x 4 jovyan users   136 Feb 13 10:35 .ipynb_checkpoints\r\n",
      "-rw-r--r-- 1 jovyan users    35 Feb 13 11:15 plain_text.txt\r\n",
      "-rwxrwxrwx 1 jovyan users 11462 Feb 13 11:10 wednesday.ipynb\r\n"
     ]
    }
   ],
   "source": [
    "!ls -la"
   ]
  },
  {
   "cell_type": "code",
   "execution_count": 18,
   "metadata": {},
   "outputs": [
    {
     "name": "stdout",
     "output_type": "stream",
     "text": [
      "A LANNISTER ALWAYS PAYS HIS DEBTS!\r\n"
     ]
    }
   ],
   "source": [
    "!cat plain_text.txt"
   ]
  },
  {
   "cell_type": "markdown",
   "metadata": {},
   "source": [
    "## Insertando citas\n",
    "Se pueden usar para citar contenido de otras fuentes de información, reproducir hilos de conversación, contenido de notebooks anteriores, etc.\n",
    "\n",
    "> \"Data is the new Intel Inside\".\n",
    "\n",
    "> Tim O'Reilly, 2005.\n",
    "\n",
    "Las citas pueden estar anidadas (como en conversaciones de e-mail):\n",
    "\n",
    "> > We can reproduce previous conversation threads."
   ]
  },
  {
   "cell_type": "markdown",
   "metadata": {},
   "source": [
    "## Insertando código LaTeX"
   ]
  },
  {
   "cell_type": "markdown",
   "metadata": {},
   "source": [
    "$$c = \\sqrt{a^2 + b^2}$$"
   ]
  },
  {
   "cell_type": "markdown",
   "metadata": {},
   "source": [
    "$$e^x=\\sum_{i=0}^\\infty \\frac{1}{i!}x^i$$"
   ]
  },
  {
   "cell_type": "markdown",
   "metadata": {},
   "source": [
    "## Insertando Tablas\n",
    "\n",
    "| Temporada | Episodios | Inicio emisión | Final emisión | Novela |\n",
    "|-----------|-----------|----------------|---------------|--------|\n",
    "|   1  | 10 | 17 de abril 2011 | 19 de junio 2011 | Juego de tronos |\n",
    "|   2  | 10 | 1 de abril 2012 | 3 de junio 2012 | Choque de reyes y Tormenta de Espadas |\n",
    "|   3  | 10 | 31 de marzo 2013 | 9 de junio 2013 | Tormenta de espadas |\n",
    "|   4  | 10 | 6 de abril 2014 | 15 de junio 2014 | Tormenta de espadas |\n",
    "|   5  | 10 | 12 de abril 2015 | 14 de junio 2015 | Festín de cuervos y Danza de dragones |\n",
    "|   6  | 10 | 24 de abril 2016 | 26 de junio 2016 | Vientos de invierno |\n",
    "|   7  | 7 | 16 de julio 2017 | 27 de agosto 2017 | Material HBO |\n",
    "\n",
    "\n",
    "\n",
    "\n"
   ]
  }
 ],
 "metadata": {
  "kernelspec": {
   "display_name": "Python 3",
   "language": "python",
   "name": "python3"
  },
  "language_info": {
   "codemirror_mode": {
    "name": "ipython",
    "version": 3
   },
   "file_extension": ".py",
   "mimetype": "text/x-python",
   "name": "python",
   "nbconvert_exporter": "python",
   "pygments_lexer": "ipython3",
   "version": "3.6.3"
  }
 },
 "nbformat": 4,
 "nbformat_minor": 2
}
